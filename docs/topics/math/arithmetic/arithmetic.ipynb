{
 "cells": [
  {
   "cell_type": "code",
   "execution_count": null,
   "id": "f04423a5",
   "metadata": {},
   "outputs": [],
   "source": []
  },
  {
   "cell_type": "markdown",
   "id": "e193c756",
   "metadata": {},
   "source": [
    "# docs/topics/math/arithmetic.py"
   ]
  },
  {
   "cell_type": "code",
   "execution_count": null,
   "id": "0c3ab34f",
   "metadata": {},
   "outputs": [],
   "source": [
    "name = \"World;--'\\\"\"\n",
    "print(f\"Hello world, {name}!\")"
   ]
  },
  {
   "cell_type": "code",
   "execution_count": null,
   "id": "ac243b6a",
   "metadata": {},
   "outputs": [],
   "source": [
    "print(1+1)\n",
    "print('1+1=', 1+1)\n",
    "print(f'{1+1=}')\n",
    "\n",
    "assert 1+1 == 2\n",
    "assert 1+1 == 2, (\"1+1 should be 2, but\", (1+1))"
   ]
  },
  {
   "cell_type": "code",
   "execution_count": null,
   "id": "db20f159",
   "metadata": {},
   "outputs": [],
   "source": [
    "assert 1/2 == 0.5\n",
    "assert 1/3 == 1/3\n",
    "print(1/3)\n",
    "\n",
    "from fractions import Fraction\n",
    "f = Fraction(1,3)\n",
    "print(f)\n",
    "\n",
    "assert f.numerator == 1\n",
    "assert f.denominator == 3"
   ]
  },
  {
   "cell_type": "code",
   "execution_count": null,
   "id": "adb5275c",
   "metadata": {},
   "outputs": [],
   "source": [
    "print(Fraction('1/3'))\n",
    "print(Fraction(1/3))  # !\n",
    "assert Fraction('1/3') != Fraction(1/3)"
   ]
  },
  {
   "cell_type": "code",
   "execution_count": null,
   "id": "0e4fafce",
   "metadata": {},
   "outputs": [],
   "source": [
    "assert Fraction(1,2) == 0.5 == 1/2\n",
    "assert Fraction(3,2) == 1.5 == 3/2\n",
    "\n",
    "assert (Fraction(3,2) + Fraction(1,2)) == Fraction(4,2) == Fraction(2,1) == 2\n",
    "\n",
    "assert (Fraction(5,3) + Fraction(4,7)) == Fraction(47,21)\n",
    "assert 7*5 == 35\n",
    "assert 4*3 == 12\n",
    "assert (7*5)+(4*3) == 47\n",
    "assert (3*7) == 21\n",
    "\n",
    "\n",
    "a = Fraction(5,3)\n",
    "b = Fraction(4,7)\n",
    "assert (a.numerator * b.denominator) + (b.numerator * a.denominator) == 47\n",
    "assert a.denominator * b.denominator == 21\n",
    "assert a+b == Fraction(47, 21)"
   ]
  },
  {
   "cell_type": "code",
   "execution_count": null,
   "id": "a2923dd8",
   "metadata": {},
   "outputs": [],
   "source": [
    "assert 2*2 == 4 == 2**2\n",
    "assert 2*3 == 6\n",
    "assert 2*4 == 8 == 2**3\n",
    "assert 2*5 == 10\n",
    "assert (2*6 == 12) and (2*7 == 14)\n",
    "assert 2*8 == 16 == 2**4"
   ]
  },
  {
   "cell_type": "code",
   "execution_count": null,
   "id": "0ba4d9f5",
   "metadata": {},
   "outputs": [],
   "source": [
    "print(('n','2*n', '2**n', 'n*n'))\n",
    "for n in range(0, 8):\n",
    "    print((n, 2*n, 2**n, n*n))\n",
    "\n",
    "import pandas as pd\n",
    "numbers = list(range(0,8))\n",
    "df = pd.DataFrame(index=numbers, data=dict(n=numbers))\n",
    "df['2*n'] = df['n']*2\n",
    "df['2**n'] = 2**df['n']\n",
    "df['n*n'] = df['n']*df['n']\n",
    "print(df)\n",
    "assert df['2*n'][7] == 14\n",
    "assert df['2**n'][7] == 128\n",
    "assert df['n*n'][7] == 49"
   ]
  },
  {
   "cell_type": "code",
   "execution_count": null,
   "id": "7572bea1",
   "metadata": {},
   "outputs": [],
   "source": [
    "\n",
    "data = [[n*m for n in range(0,8)] for m in range(0,8)]\n",
    "print(data)\n",
    "df = pd.DataFrame(data=data)\n",
    "print(df)\n",
    "assert df[0][0] == 0\n",
    "assert df[2][3] == 6 == 2*3\n",
    "assert df[7][7] == 49 == 7*7 == 7**2"
   ]
  },
  {
   "cell_type": "code",
   "execution_count": null,
   "id": "98e081b4",
   "metadata": {},
   "outputs": [],
   "source": [
    "print(f\"End of arithmetic.py\")"
   ]
  }
 ],
 "metadata": {
  "jupytext": {
   "cell_metadata_filter": "-all",
   "main_language": "python",
   "notebook_metadata_filter": "-all"
  }
 },
 "nbformat": 4,
 "nbformat_minor": 5
}
